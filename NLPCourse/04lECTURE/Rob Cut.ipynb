{
 "cells": [
  {
   "cell_type": "code",
   "execution_count": null,
   "metadata": {},
   "outputs": [],
   "source": [
    "from functools import  lru_cache\n",
    "from collections import defaultdict\n",
    "\n",
    "original_price = [1,5,8,9,10,17,17,20,24,30]\n",
    "price = defaultdict(int)\n",
    "\n",
    "for i,p in enumerate(original_price):\n",
    "    price[i+1]=p"
   ]
  },
  {
   "cell_type": "code",
   "execution_count": 45,
   "metadata": {},
   "outputs": [],
   "source": [
    "@lru_cache(maxsize=2**10)\n",
    "def r_n(n):\n",
    "    return max(\n",
    "        [price[n]]+[r_n(i)+r_n(n-i) for i in range(1,n)]\n",
    "               )"
   ]
  },
  {
   "cell_type": "code",
   "execution_count": 46,
   "metadata": {},
   "outputs": [
    {
     "data": {
      "text/plain": [
       "300"
      ]
     },
     "execution_count": 46,
     "metadata": {},
     "output_type": "execute_result"
    }
   ],
   "source": [
    "r_n(100)"
   ]
  },
  {
   "cell_type": "code",
   "execution_count": 11,
   "metadata": {},
   "outputs": [],
   "source": []
  },
  {
   "cell_type": "code",
   "execution_count": 73,
   "metadata": {},
   "outputs": [],
   "source": [
    "solution = {}\n",
    "def r(n):\n",
    "    sub_price,sub_split =  max(\n",
    "        [(price[n],n)]+[(r(i)+r(n-i),i) for i in range(1,n)],\n",
    "        key = lambda x:x[0])\n",
    "    if n not in solution:\n",
    "        solution[n] = (sub_split,n-sub_split)\n",
    "    #print(n,\"  \",sub_split,\"   \",n-sub_split,\"   \",sub_price)\n",
    "    return sub_price\n",
    "\n",
    "def memo(func):\n",
    "    def _w(n):\n",
    "        return func(n)\n",
    "    return _w"
   ]
  },
  {
   "cell_type": "code",
   "execution_count": 74,
   "metadata": {
    "scrolled": true
   },
   "outputs": [
    {
     "data": {
      "text/plain": [
       "30"
      ]
     },
     "execution_count": 74,
     "metadata": {},
     "output_type": "execute_result"
    }
   ],
   "source": [
    "fun = memo(r)\n",
    "fun(10)\n"
   ]
  },
  {
   "cell_type": "code",
   "execution_count": 94,
   "metadata": {},
   "outputs": [],
   "source": [
    "solution = {}\n",
    "\n",
    "def memo(func):\n",
    "    coach={}\n",
    "    def _w(n):\n",
    "        if n in coach:\n",
    "            result = coach[n]\n",
    "        else:\n",
    "            result = func(n)\n",
    "            coach[n]=result\n",
    "        return result\n",
    "    return _w\n",
    "\n",
    "def r(n):\n",
    "    sub_price,sub_split =  max(\n",
    "        [(price[n],n)]+[(r(i)+r(n-i),i) for i in range(1,n)],\n",
    "        key = lambda x:x[0])\n",
    "    if n not in solution:\n",
    "        solution[n] = (sub_split,n-sub_split)\n",
    "    #print(n,\"  \",sub_split,\"   \",n-sub_split,\"   \",sub_price)\n",
    "    return sub_price\n",
    "\n"
   ]
  },
  {
   "cell_type": "code",
   "execution_count": 95,
   "metadata": {},
   "outputs": [
    {
     "data": {
      "text/plain": [
       "900"
      ]
     },
     "execution_count": 95,
     "metadata": {},
     "output_type": "execute_result"
    }
   ],
   "source": [
    "r = memo(r)\n",
    "r(300)"
   ]
  },
  {
   "cell_type": "code",
   "execution_count": 85,
   "metadata": {},
   "outputs": [],
   "source": [
    "solution = {}\n",
    "\n",
    "def memo(func):\n",
    "    coach={}\n",
    "    def _w(n):\n",
    "        if n in coach:\n",
    "            return coach[n]\n",
    "        else:\n",
    "            rn = func(n)\n",
    "            coach[n]=rn\n",
    "            return rn\n",
    "    return _w\n",
    "@memo\n",
    "def r(n):\n",
    "    sub_price,sub_split =  max(\n",
    "        [(price[n],n)]+[(r(i)+r(n-i),i) for i in range(1,n)],\n",
    "        key = lambda x:x[0])\n",
    "    if n not in solution:\n",
    "        solution[n] = (sub_split,n-sub_split)\n",
    "    #print(n,\"  \",sub_split,\"   \",n-sub_split,\"   \",sub_price)\n",
    "    return sub_price"
   ]
  },
  {
   "cell_type": "code",
   "execution_count": 86,
   "metadata": {},
   "outputs": [
    {
     "data": {
      "text/plain": [
       "900"
      ]
     },
     "execution_count": 86,
     "metadata": {},
     "output_type": "execute_result"
    }
   ],
   "source": [
    "r(300)"
   ]
  },
  {
   "cell_type": "code",
   "execution_count": 120,
   "metadata": {},
   "outputs": [],
   "source": [
    "from functools import wraps\n",
    "solution = {}\n",
    "def memo(func):\n",
    "    coach={}\n",
    "    @wraps(func)#\n",
    "    def _w(n):\n",
    "        if n in coach:\n",
    "            return coach[n]\n",
    "        else:\n",
    "            rn = func(n)\n",
    "            coach[n]=rn\n",
    "            return rn\n",
    "    return _w\n",
    "    \n",
    "        \n",
    "@memo\n",
    "def r(n):\n",
    "    sub_price,sub_split =  max(\n",
    "        [(price[n],0)]+[(r(i)+r(n-i),i) for i in range(1,n)],\n",
    "        key = lambda x:x[0])\n",
    "    #if n not in solution:\n",
    "    solution[n] = (sub_split,n-sub_split)\n",
    "    #print(n,\"  \",sub_split,\"   \",n-sub_split,\"   \",sub_price)\n",
    "    return sub_price    "
   ]
  },
  {
   "cell_type": "code",
   "execution_count": 121,
   "metadata": {},
   "outputs": [
    {
     "data": {
      "text/plain": [
       "{1: (0, 1),\n",
       " 2: (0, 2),\n",
       " 3: (0, 3),\n",
       " 4: (2, 2),\n",
       " 5: (2, 3),\n",
       " 6: (0, 6),\n",
       " 7: (1, 6),\n",
       " 8: (2, 6),\n",
       " 9: (3, 6),\n",
       " 10: (0, 10),\n",
       " 11: (1, 10),\n",
       " 12: (2, 10),\n",
       " 13: (3, 10),\n",
       " 14: (2, 12),\n",
       " 15: (2, 13),\n",
       " 16: (6, 10),\n",
       " 17: (1, 16),\n",
       " 18: (2, 16),\n",
       " 19: (3, 16),\n",
       " 20: (10, 10),\n",
       " 21: (1, 20),\n",
       " 22: (2, 20),\n",
       " 23: (3, 20),\n",
       " 24: (2, 22),\n",
       " 25: (2, 23),\n",
       " 26: (6, 20),\n",
       " 27: (1, 26),\n",
       " 28: (2, 26),\n",
       " 29: (3, 26),\n",
       " 30: (10, 20),\n",
       " 31: (1, 30),\n",
       " 32: (2, 30),\n",
       " 33: (3, 30),\n",
       " 34: (2, 32),\n",
       " 35: (2, 33),\n",
       " 36: (6, 30),\n",
       " 37: (1, 36),\n",
       " 38: (2, 36),\n",
       " 39: (3, 36),\n",
       " 40: (10, 30),\n",
       " 41: (1, 40),\n",
       " 42: (2, 40),\n",
       " 43: (3, 40),\n",
       " 44: (2, 42),\n",
       " 45: (2, 43),\n",
       " 46: (6, 40),\n",
       " 47: (1, 46),\n",
       " 48: (2, 46),\n",
       " 49: (3, 46),\n",
       " 50: (10, 40),\n",
       " 51: (1, 50),\n",
       " 52: (2, 50),\n",
       " 53: (3, 50),\n",
       " 54: (2, 52),\n",
       " 55: (2, 53),\n",
       " 56: (6, 50),\n",
       " 57: (1, 56),\n",
       " 58: (2, 56),\n",
       " 59: (3, 56),\n",
       " 60: (10, 50),\n",
       " 61: (1, 60),\n",
       " 62: (2, 60),\n",
       " 63: (3, 60),\n",
       " 64: (2, 62),\n",
       " 65: (2, 63),\n",
       " 66: (6, 60),\n",
       " 67: (1, 66),\n",
       " 68: (2, 66),\n",
       " 69: (3, 66),\n",
       " 70: (10, 60),\n",
       " 71: (1, 70),\n",
       " 72: (2, 70),\n",
       " 73: (3, 70),\n",
       " 74: (2, 72),\n",
       " 75: (2, 73),\n",
       " 76: (6, 70),\n",
       " 77: (1, 76),\n",
       " 78: (2, 76),\n",
       " 79: (3, 76),\n",
       " 80: (10, 70),\n",
       " 81: (1, 80),\n",
       " 82: (2, 80),\n",
       " 83: (3, 80),\n",
       " 84: (2, 82),\n",
       " 85: (2, 83),\n",
       " 86: (6, 80),\n",
       " 87: (1, 86),\n",
       " 88: (2, 86),\n",
       " 89: (3, 86),\n",
       " 90: (10, 80),\n",
       " 91: (1, 90),\n",
       " 92: (2, 90),\n",
       " 93: (3, 90),\n",
       " 94: (2, 92),\n",
       " 95: (2, 93),\n",
       " 96: (6, 90),\n",
       " 97: (1, 96),\n",
       " 98: (2, 96),\n",
       " 99: (3, 96),\n",
       " 100: (10, 90)}"
      ]
     },
     "execution_count": 121,
     "metadata": {},
     "output_type": "execute_result"
    }
   ],
   "source": [
    "r(100)\n",
    "solution"
   ]
  },
  {
   "cell_type": "code",
   "execution_count": 125,
   "metadata": {},
   "outputs": [],
   "source": [
    "def parse_solution(n,revenue_solution):\n",
    "    left,right = revenue_solution[n]\n",
    "    if left == 0:\n",
    "        print('----',right)\n",
    "        return [right]\n",
    "    print(left,right)\n",
    "    return parse_solution(left,revenue_solution) + parse_solution(right,revenue_solution,)"
   ]
  },
  {
   "cell_type": "code",
   "execution_count": 126,
   "metadata": {},
   "outputs": [
    {
     "name": "stdout",
     "output_type": "stream",
     "text": [
      "3 56\n",
      "---- 3\n",
      "6 50\n",
      "---- 6\n",
      "10 40\n",
      "---- 10\n",
      "10 30\n",
      "---- 10\n",
      "10 20\n",
      "---- 10\n",
      "10 10\n",
      "---- 10\n",
      "---- 10\n"
     ]
    },
    {
     "data": {
      "text/plain": [
       "[3, 6, 10, 10, 10, 10, 10]"
      ]
     },
     "execution_count": 126,
     "metadata": {},
     "output_type": "execute_result"
    }
   ],
   "source": [
    "parse_solution(59,solution)"
   ]
  },
  {
   "cell_type": "markdown",
   "metadata": {},
   "source": [
    "## Edit Distance"
   ]
  },
  {
   "cell_type": "code",
   "execution_count": 127,
   "metadata": {},
   "outputs": [],
   "source": [
    "solution={}"
   ]
  },
  {
   "cell_type": "code",
   "execution_count": 128,
   "metadata": {},
   "outputs": [],
   "source": [
    "@lru_cache(maxsize=2**10)\n",
    "def edit_distance(string1, string2):\n",
    "    \n",
    "    if len(string1) == 0: return len(string2)\n",
    "    if len(string2) == 0: return len(string1)\n",
    "    \n",
    "    tail_s1 = string1[-1]\n",
    "    tail_s2 = string2[-1]\n",
    "    \n",
    "    return min(\n",
    "        [\n",
    "            edit_distance(string1[:-1],string2)+1,\n",
    "            edit_distance(string1,string2[:-1])+1,\n",
    "            edit_distance(string1[:-1],string2[:-1])+(0 if tail_s1 == tail_s2 else 2)\n",
    "        ]\n",
    "    )"
   ]
  },
  {
   "cell_type": "code",
   "execution_count": 129,
   "metadata": {},
   "outputs": [
    {
     "data": {
      "text/plain": [
       "3"
      ]
     },
     "execution_count": 129,
     "metadata": {},
     "output_type": "execute_result"
    }
   ],
   "source": [
    "edit_distance('我喜欢吃面包','我爱吃面包')"
   ]
  },
  {
   "cell_type": "code",
   "execution_count": 134,
   "metadata": {},
   "outputs": [
    {
     "data": {
      "text/plain": [
       "2"
      ]
     },
     "execution_count": 134,
     "metadata": {},
     "output_type": "execute_result"
    }
   ],
   "source": [
    "edit_distance('ABCC','ABEC')"
   ]
  },
  {
   "cell_type": "code",
   "execution_count": 241,
   "metadata": {},
   "outputs": [],
   "source": [
    "@lru_cache(2**30)\n",
    "def edit_distance2(string1,string2):\n",
    "    if len(string1)==0:return len(string2)\n",
    "    if len(string2)==0:return len(string1)\n",
    "    tails_s1 = string1[-1]\n",
    "    tails_s2 = string2[-1]\n",
    "    candidates = [\n",
    "        (edit_distance2(string1[:-1], string2) + 1, 'DEL {}'.format(tails_s1)),  # string 1 delete tail\n",
    "        (edit_distance2(string1, string2[:-1]) + 1, 'ADD {}'.format(tails_s2)),  # string 1 add tail of string2\n",
    "        (edit_distance2(string1[:-1],string2[:-1])+ 0,'EQU') if tails_s1 == tails_s2 else  (edit_distance2(string1[:-1], string2[:-1]) + 2, 'REP {} => {}'.format(tails_s1, tails_s2)),\n",
    "        \n",
    "    ]\n",
    "    \n",
    "    min_dis,option = min(candidates,key=lambda x:x[0])\n",
    "    #print(msg)\n",
    "    return min_dis"
   ]
  },
  {
   "cell_type": "code",
   "execution_count": 242,
   "metadata": {},
   "outputs": [
    {
     "data": {
      "text/plain": [
       "2"
      ]
     },
     "execution_count": 242,
     "metadata": {},
     "output_type": "execute_result"
    }
   ],
   "source": [
    "edit_distance2('ABCC','ABEC')"
   ]
  },
  {
   "cell_type": "code",
   "execution_count": 226,
   "metadata": {},
   "outputs": [],
   "source": [
    "@lru_cache(maxsize=2**10)\n",
    "def edit_distance3(string1, string2):\n",
    "    \n",
    "    if len(string1) == 0: return len(string2)\n",
    "    if len(string2) == 0: return len(string1)\n",
    "    \n",
    "    tail_s1 = string1[-1]\n",
    "    tail_s2 = string2[-1]\n",
    "    \n",
    "    candidates = [\n",
    "        (edit_distance3(string1[:-1], string2) + 1, 'DEL {}'.format(tail_s1)),  # string 1 delete tail\n",
    "        (edit_distance3(string1, string2[:-1]) + 1, 'ADD {}'.format(tail_s2)),  # string 1 add tail of string2\n",
    "        #(edit_distance(string1[-1],string2[-1])+ 0,'EQU') if tail_s1 == tail_s2 else  (edit_distance(string1[:-1], string2[:-1]) + 2, 'REP {} => {}'.format(tail_s1, tail_s2))\n",
    "    ]\n",
    "    \n",
    "    if tail_s1 == tail_s2:\n",
    "        both_forward = (edit_distance3(string1[:-1], string2[:-1]) + 0, '')\n",
    "    else:\n",
    "        both_forward = (edit_distance3(string1[:-1], string2[:-1]) + 2, 'SUB {} => {}'.format(tail_s1, tail_s2))\n",
    "\n",
    "    candidates.append(both_forward)\n",
    "    \n",
    "    min_distance, operation = min(candidates, key=lambda x: x[0])\n",
    "    \n",
    "    solution[(string1, string2)] = operation \n",
    "    \n",
    "    return min_distance"
   ]
  },
  {
   "cell_type": "code",
   "execution_count": 227,
   "metadata": {},
   "outputs": [
    {
     "data": {
      "text/plain": [
       "2"
      ]
     },
     "execution_count": 227,
     "metadata": {},
     "output_type": "execute_result"
    }
   ],
   "source": [
    "edit_distance3('ABCC','ABEC')"
   ]
  },
  {
   "cell_type": "code",
   "execution_count": 273,
   "metadata": {},
   "outputs": [],
   "source": [
    "solution={}\n",
    "@lru_cache(maxsize=2**10)\n",
    "def edit_distance4(string1, string2):\n",
    "    \n",
    "    if len(string1) == 0: return len(string2)\n",
    "    if len(string2) == 0: return len(string1)\n",
    "    \n",
    "    tail_s1 = string1[-1]\n",
    "    tail_s2 = string2[-1]\n",
    "    \n",
    "    candidates = [\n",
    "        (edit_distance4(string1[:-1], string2) + 1, 'DEL {}'.format(tail_s1)),  # string 1 delete tail\n",
    "        (edit_distance4(string1, string2[:-1]) + 1, 'ADD {}'.format(tail_s2)),  # string 1 add tail of string2\n",
    "        ((edit_distance4(string1[:-1],string2[:-1])+ 0,'') if tail_s1 == tail_s2 else  (edit_distance4(string1[:-1], string2[:-1]) + 0.5, 'REP {} => {}'.format(tail_s1, tail_s2)))\n",
    "    ]\n",
    "    \n",
    "    \n",
    "    min_distance, operation = min(candidates, key=lambda x: x[0])\n",
    "    \n",
    "    solution[(string1, string2)] = operation \n",
    "    \n",
    "    return min_distance"
   ]
  },
  {
   "cell_type": "code",
   "execution_count": 274,
   "metadata": {},
   "outputs": [
    {
     "data": {
      "text/plain": [
       "1.0"
      ]
     },
     "execution_count": 274,
     "metadata": {},
     "output_type": "execute_result"
    }
   ],
   "source": [
    "edit_distance4('ABDEC','ABEDC')"
   ]
  },
  {
   "cell_type": "code",
   "execution_count": 275,
   "metadata": {},
   "outputs": [
    {
     "data": {
      "text/plain": [
       "{('A', 'A'): '',\n",
       " ('A', 'AB'): 'ADD B',\n",
       " ('A', 'ABE'): 'ADD E',\n",
       " ('A', 'ABED'): 'ADD D',\n",
       " ('A', 'ABEDC'): 'ADD C',\n",
       " ('AB', 'A'): 'DEL B',\n",
       " ('AB', 'AB'): '',\n",
       " ('AB', 'ABE'): 'ADD E',\n",
       " ('AB', 'ABED'): 'ADD D',\n",
       " ('AB', 'ABEDC'): 'ADD C',\n",
       " ('ABD', 'A'): 'DEL D',\n",
       " ('ABD', 'AB'): 'DEL D',\n",
       " ('ABD', 'ABE'): 'REP D => E',\n",
       " ('ABD', 'ABED'): '',\n",
       " ('ABD', 'ABEDC'): 'ADD C',\n",
       " ('ABDE', 'A'): 'DEL E',\n",
       " ('ABDE', 'AB'): 'DEL E',\n",
       " ('ABDE', 'ABE'): '',\n",
       " ('ABDE', 'ABED'): 'REP E => D',\n",
       " ('ABDE', 'ABEDC'): 'REP E => C',\n",
       " ('ABDEC', 'A'): 'DEL C',\n",
       " ('ABDEC', 'AB'): 'DEL C',\n",
       " ('ABDEC', 'ABE'): 'DEL C',\n",
       " ('ABDEC', 'ABED'): 'REP C => D',\n",
       " ('ABDEC', 'ABEDC'): ''}"
      ]
     },
     "execution_count": 275,
     "metadata": {},
     "output_type": "execute_result"
    }
   ],
   "source": [
    "solution"
   ]
  },
  {
   "cell_type": "code",
   "execution_count": 258,
   "metadata": {},
   "outputs": [],
   "source": [
    "solution={}\n",
    "@lru_cache(maxsize=2**10)\n",
    "def edit_distance(string1, string2):\n",
    "    \n",
    "    if len(string1) == 0: return len(string2)\n",
    "    if len(string2) == 0: return len(string1)\n",
    "    \n",
    "    tail_s1 = string1[-1]\n",
    "    tail_s2 = string2[-1]\n",
    "    \n",
    "    candidates = [\n",
    "        (edit_distance(string1[:-1], string2) + 1, 'DEL {}'.format(tail_s1)),  # string 1 delete tail\n",
    "        (edit_distance(string1, string2[:-1]) + 1, 'ADD {}'.format(tail_s2)),  # string 1 add tail of string2\n",
    "    ]\n",
    "    \n",
    "    if tail_s1 == tail_s2:\n",
    "        both_forward = (edit_distance(string1[:-1], string2[:-1]) + 0, '')\n",
    "    else:\n",
    "        both_forward = (edit_distance(string1[:-1], string2[:-1]) + 1, 'SUB {} => {}'.format(tail_s1, tail_s2))\n",
    "\n",
    "    candidates.append(both_forward)\n",
    "    \n",
    "    min_distance, operation = min(candidates, key=lambda x: x[0])\n",
    "    \n",
    "    solution[(string1, string2)] = operation \n",
    "    \n",
    "    return min_distance"
   ]
  },
  {
   "cell_type": "code",
   "execution_count": 259,
   "metadata": {},
   "outputs": [
    {
     "data": {
      "text/plain": [
       "1"
      ]
     },
     "execution_count": 259,
     "metadata": {},
     "output_type": "execute_result"
    }
   ],
   "source": [
    "edit_distance('ABCC','ABEC')"
   ]
  },
  {
   "cell_type": "code",
   "execution_count": 260,
   "metadata": {},
   "outputs": [
    {
     "data": {
      "text/plain": [
       "{('A', 'A'): '',\n",
       " ('A', 'AB'): 'ADD B',\n",
       " ('A', 'ABE'): 'ADD E',\n",
       " ('A', 'ABEC'): 'ADD C',\n",
       " ('AB', 'A'): 'DEL B',\n",
       " ('AB', 'AB'): '',\n",
       " ('AB', 'ABE'): 'ADD E',\n",
       " ('AB', 'ABEC'): 'ADD C',\n",
       " ('ABC', 'A'): 'DEL C',\n",
       " ('ABC', 'AB'): 'DEL C',\n",
       " ('ABC', 'ABE'): 'SUB C => E',\n",
       " ('ABC', 'ABEC'): '',\n",
       " ('ABCC', 'A'): 'DEL C',\n",
       " ('ABCC', 'AB'): 'DEL C',\n",
       " ('ABCC', 'ABE'): 'DEL C',\n",
       " ('ABCC', 'ABEC'): ''}"
      ]
     },
     "execution_count": 260,
     "metadata": {},
     "output_type": "execute_result"
    }
   ],
   "source": [
    "solution"
   ]
  },
  {
   "cell_type": "code",
   "execution_count": null,
   "metadata": {},
   "outputs": [],
   "source": []
  }
 ],
 "metadata": {
  "kernelspec": {
   "display_name": "Python 3",
   "language": "python",
   "name": "python3"
  },
  "language_info": {
   "codemirror_mode": {
    "name": "ipython",
    "version": 3
   },
   "file_extension": ".py",
   "mimetype": "text/x-python",
   "name": "python",
   "nbconvert_exporter": "python",
   "pygments_lexer": "ipython3",
   "version": "3.7.3"
  }
 },
 "nbformat": 4,
 "nbformat_minor": 2
}
